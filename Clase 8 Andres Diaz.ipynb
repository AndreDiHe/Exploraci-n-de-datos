{
  "nbformat": 4,
  "nbformat_minor": 0,
  "metadata": {
    "colab": {
      "provenance": []
    },
    "kernelspec": {
      "name": "python3",
      "display_name": "Python 3"
    },
    "language_info": {
      "name": "python"
    }
  },
  "cells": [
    {
      "cell_type": "markdown",
      "source": [
        "Taller Aplicado de Pivot Tables, Tablas de Contingencia y Melts"
      ],
      "metadata": {
        "id": "c4zeZQFnr2oV"
      }
    },
    {
      "cell_type": "code",
      "execution_count": 1,
      "metadata": {
        "colab": {
          "base_uri": "https://localhost:8080/"
        },
        "id": "LWCmQwhkpA0P",
        "outputId": "20d857ed-e15a-4129-edae-c89ce3b8398b"
      },
      "outputs": [
        {
          "output_type": "stream",
          "name": "stdout",
          "text": [
            "--2024-10-03 21:25:37--  https://github.com/javierherrera1996/lecture_analytics/raw/refs/heads/main/time_series.zip\n",
            "Resolving github.com (github.com)... 140.82.112.3\n",
            "Connecting to github.com (github.com)|140.82.112.3|:443... connected.\n",
            "HTTP request sent, awaiting response... 302 Found\n",
            "Location: https://raw.githubusercontent.com/javierherrera1996/lecture_analytics/refs/heads/main/time_series.zip [following]\n",
            "--2024-10-03 21:25:37--  https://raw.githubusercontent.com/javierherrera1996/lecture_analytics/refs/heads/main/time_series.zip\n",
            "Resolving raw.githubusercontent.com (raw.githubusercontent.com)... 185.199.108.133, 185.199.109.133, 185.199.110.133, ...\n",
            "Connecting to raw.githubusercontent.com (raw.githubusercontent.com)|185.199.108.133|:443... connected.\n",
            "HTTP request sent, awaiting response... 200 OK\n",
            "Length: 15602616 (15M) [application/zip]\n",
            "Saving to: ‘time_series.zip’\n",
            "\n",
            "time_series.zip     100%[===================>]  14.88M  --.-KB/s    in 0.1s    \n",
            "\n",
            "2024-10-03 21:25:38 (104 MB/s) - ‘time_series.zip’ saved [15602616/15602616]\n",
            "\n",
            "Archive:  time_series.zip\n",
            "   creating: time_series/\n",
            "  inflating: time_series/fundamentals.csv  \n",
            "  inflating: __MACOSX/time_series/._fundamentals.csv  \n",
            "  inflating: time_series/prices.csv  \n",
            "  inflating: __MACOSX/time_series/._prices.csv  \n"
          ]
        }
      ],
      "source": [
        "!wget https://github.com/javierherrera1996/lecture_analytics/raw/refs/heads/main/time_series.zip\n",
        "!unzip time_series.zip\n",
        "!cp -r time_series/* ./"
      ]
    },
    {
      "cell_type": "markdown",
      "source": [
        "Contexto del Taller\n",
        "Tienes datos históricos de precios y volumen de transacciones de acciones de una empresa (AAPL). El objetivo es utilizar herramientas como pivot tables, tablas de contingencia y melts en Python para realizar un análisis exploratorio que pueda influir en decisiones de inversión o identificar tendencias.\n",
        "\n",
        "Preguntas de Pivot Tables (Enfocadas a Negocio)\n",
        "Calcula el volumen promedio de transacciones por mes para la acción AAPL.\n",
        "\n",
        "Contexto de negocio: El volumen mensual te ayuda a entender la liquidez de la acción y detectar patrones de alta actividad.\n"
      ],
      "metadata": {
        "id": "wSqt9pHNr6NB"
      }
    },
    {
      "cell_type": "code",
      "source": [
        "import pandas as pd\n",
        "data = pd.read_csv('prices.csv')\n",
        "df.head()"
      ],
      "metadata": {
        "id": "JqXg1bPisAzP",
        "colab": {
          "base_uri": "https://localhost:8080/",
          "height": 206
        },
        "outputId": "fe9a65d7-fc90-41e0-dab6-741d12a8dc77"
      },
      "execution_count": 9,
      "outputs": [
        {
          "output_type": "execute_result",
          "data": {
            "text/plain": [
              "                  date symbol        open       close         low        high  \\\n",
              "0  2016-01-05 00:00:00   WLTW  123.430000  125.839996  122.309998  126.250000   \n",
              "1  2016-01-06 00:00:00   WLTW  125.239998  119.980003  119.940002  125.540001   \n",
              "2  2016-01-07 00:00:00   WLTW  116.379997  114.949997  114.930000  119.739998   \n",
              "3  2016-01-08 00:00:00   WLTW  115.480003  116.620003  113.500000  117.440002   \n",
              "4  2016-01-11 00:00:00   WLTW  117.010002  114.970001  114.089996  117.330002   \n",
              "\n",
              "      volume  \n",
              "0  2163600.0  \n",
              "1  2386400.0  \n",
              "2  2489500.0  \n",
              "3  2006300.0  \n",
              "4  1408600.0  "
            ],
            "text/html": [
              "\n",
              "  <div id=\"df-3c779211-c13b-4dd3-a9bd-edd22c99766b\" class=\"colab-df-container\">\n",
              "    <div>\n",
              "<style scoped>\n",
              "    .dataframe tbody tr th:only-of-type {\n",
              "        vertical-align: middle;\n",
              "    }\n",
              "\n",
              "    .dataframe tbody tr th {\n",
              "        vertical-align: top;\n",
              "    }\n",
              "\n",
              "    .dataframe thead th {\n",
              "        text-align: right;\n",
              "    }\n",
              "</style>\n",
              "<table border=\"1\" class=\"dataframe\">\n",
              "  <thead>\n",
              "    <tr style=\"text-align: right;\">\n",
              "      <th></th>\n",
              "      <th>date</th>\n",
              "      <th>symbol</th>\n",
              "      <th>open</th>\n",
              "      <th>close</th>\n",
              "      <th>low</th>\n",
              "      <th>high</th>\n",
              "      <th>volume</th>\n",
              "    </tr>\n",
              "  </thead>\n",
              "  <tbody>\n",
              "    <tr>\n",
              "      <th>0</th>\n",
              "      <td>2016-01-05 00:00:00</td>\n",
              "      <td>WLTW</td>\n",
              "      <td>123.430000</td>\n",
              "      <td>125.839996</td>\n",
              "      <td>122.309998</td>\n",
              "      <td>126.250000</td>\n",
              "      <td>2163600.0</td>\n",
              "    </tr>\n",
              "    <tr>\n",
              "      <th>1</th>\n",
              "      <td>2016-01-06 00:00:00</td>\n",
              "      <td>WLTW</td>\n",
              "      <td>125.239998</td>\n",
              "      <td>119.980003</td>\n",
              "      <td>119.940002</td>\n",
              "      <td>125.540001</td>\n",
              "      <td>2386400.0</td>\n",
              "    </tr>\n",
              "    <tr>\n",
              "      <th>2</th>\n",
              "      <td>2016-01-07 00:00:00</td>\n",
              "      <td>WLTW</td>\n",
              "      <td>116.379997</td>\n",
              "      <td>114.949997</td>\n",
              "      <td>114.930000</td>\n",
              "      <td>119.739998</td>\n",
              "      <td>2489500.0</td>\n",
              "    </tr>\n",
              "    <tr>\n",
              "      <th>3</th>\n",
              "      <td>2016-01-08 00:00:00</td>\n",
              "      <td>WLTW</td>\n",
              "      <td>115.480003</td>\n",
              "      <td>116.620003</td>\n",
              "      <td>113.500000</td>\n",
              "      <td>117.440002</td>\n",
              "      <td>2006300.0</td>\n",
              "    </tr>\n",
              "    <tr>\n",
              "      <th>4</th>\n",
              "      <td>2016-01-11 00:00:00</td>\n",
              "      <td>WLTW</td>\n",
              "      <td>117.010002</td>\n",
              "      <td>114.970001</td>\n",
              "      <td>114.089996</td>\n",
              "      <td>117.330002</td>\n",
              "      <td>1408600.0</td>\n",
              "    </tr>\n",
              "  </tbody>\n",
              "</table>\n",
              "</div>\n",
              "    <div class=\"colab-df-buttons\">\n",
              "\n",
              "  <div class=\"colab-df-container\">\n",
              "    <button class=\"colab-df-convert\" onclick=\"convertToInteractive('df-3c779211-c13b-4dd3-a9bd-edd22c99766b')\"\n",
              "            title=\"Convert this dataframe to an interactive table.\"\n",
              "            style=\"display:none;\">\n",
              "\n",
              "  <svg xmlns=\"http://www.w3.org/2000/svg\" height=\"24px\" viewBox=\"0 -960 960 960\">\n",
              "    <path d=\"M120-120v-720h720v720H120Zm60-500h600v-160H180v160Zm220 220h160v-160H400v160Zm0 220h160v-160H400v160ZM180-400h160v-160H180v160Zm440 0h160v-160H620v160ZM180-180h160v-160H180v160Zm440 0h160v-160H620v160Z\"/>\n",
              "  </svg>\n",
              "    </button>\n",
              "\n",
              "  <style>\n",
              "    .colab-df-container {\n",
              "      display:flex;\n",
              "      gap: 12px;\n",
              "    }\n",
              "\n",
              "    .colab-df-convert {\n",
              "      background-color: #E8F0FE;\n",
              "      border: none;\n",
              "      border-radius: 50%;\n",
              "      cursor: pointer;\n",
              "      display: none;\n",
              "      fill: #1967D2;\n",
              "      height: 32px;\n",
              "      padding: 0 0 0 0;\n",
              "      width: 32px;\n",
              "    }\n",
              "\n",
              "    .colab-df-convert:hover {\n",
              "      background-color: #E2EBFA;\n",
              "      box-shadow: 0px 1px 2px rgba(60, 64, 67, 0.3), 0px 1px 3px 1px rgba(60, 64, 67, 0.15);\n",
              "      fill: #174EA6;\n",
              "    }\n",
              "\n",
              "    .colab-df-buttons div {\n",
              "      margin-bottom: 4px;\n",
              "    }\n",
              "\n",
              "    [theme=dark] .colab-df-convert {\n",
              "      background-color: #3B4455;\n",
              "      fill: #D2E3FC;\n",
              "    }\n",
              "\n",
              "    [theme=dark] .colab-df-convert:hover {\n",
              "      background-color: #434B5C;\n",
              "      box-shadow: 0px 1px 3px 1px rgba(0, 0, 0, 0.15);\n",
              "      filter: drop-shadow(0px 1px 2px rgba(0, 0, 0, 0.3));\n",
              "      fill: #FFFFFF;\n",
              "    }\n",
              "  </style>\n",
              "\n",
              "    <script>\n",
              "      const buttonEl =\n",
              "        document.querySelector('#df-3c779211-c13b-4dd3-a9bd-edd22c99766b button.colab-df-convert');\n",
              "      buttonEl.style.display =\n",
              "        google.colab.kernel.accessAllowed ? 'block' : 'none';\n",
              "\n",
              "      async function convertToInteractive(key) {\n",
              "        const element = document.querySelector('#df-3c779211-c13b-4dd3-a9bd-edd22c99766b');\n",
              "        const dataTable =\n",
              "          await google.colab.kernel.invokeFunction('convertToInteractive',\n",
              "                                                    [key], {});\n",
              "        if (!dataTable) return;\n",
              "\n",
              "        const docLinkHtml = 'Like what you see? Visit the ' +\n",
              "          '<a target=\"_blank\" href=https://colab.research.google.com/notebooks/data_table.ipynb>data table notebook</a>'\n",
              "          + ' to learn more about interactive tables.';\n",
              "        element.innerHTML = '';\n",
              "        dataTable['output_type'] = 'display_data';\n",
              "        await google.colab.output.renderOutput(dataTable, element);\n",
              "        const docLink = document.createElement('div');\n",
              "        docLink.innerHTML = docLinkHtml;\n",
              "        element.appendChild(docLink);\n",
              "      }\n",
              "    </script>\n",
              "  </div>\n",
              "\n",
              "\n",
              "<div id=\"df-e422f683-e8c0-420e-a4a9-51f691b8cc18\">\n",
              "  <button class=\"colab-df-quickchart\" onclick=\"quickchart('df-e422f683-e8c0-420e-a4a9-51f691b8cc18')\"\n",
              "            title=\"Suggest charts\"\n",
              "            style=\"display:none;\">\n",
              "\n",
              "<svg xmlns=\"http://www.w3.org/2000/svg\" height=\"24px\"viewBox=\"0 0 24 24\"\n",
              "     width=\"24px\">\n",
              "    <g>\n",
              "        <path d=\"M19 3H5c-1.1 0-2 .9-2 2v14c0 1.1.9 2 2 2h14c1.1 0 2-.9 2-2V5c0-1.1-.9-2-2-2zM9 17H7v-7h2v7zm4 0h-2V7h2v10zm4 0h-2v-4h2v4z\"/>\n",
              "    </g>\n",
              "</svg>\n",
              "  </button>\n",
              "\n",
              "<style>\n",
              "  .colab-df-quickchart {\n",
              "      --bg-color: #E8F0FE;\n",
              "      --fill-color: #1967D2;\n",
              "      --hover-bg-color: #E2EBFA;\n",
              "      --hover-fill-color: #174EA6;\n",
              "      --disabled-fill-color: #AAA;\n",
              "      --disabled-bg-color: #DDD;\n",
              "  }\n",
              "\n",
              "  [theme=dark] .colab-df-quickchart {\n",
              "      --bg-color: #3B4455;\n",
              "      --fill-color: #D2E3FC;\n",
              "      --hover-bg-color: #434B5C;\n",
              "      --hover-fill-color: #FFFFFF;\n",
              "      --disabled-bg-color: #3B4455;\n",
              "      --disabled-fill-color: #666;\n",
              "  }\n",
              "\n",
              "  .colab-df-quickchart {\n",
              "    background-color: var(--bg-color);\n",
              "    border: none;\n",
              "    border-radius: 50%;\n",
              "    cursor: pointer;\n",
              "    display: none;\n",
              "    fill: var(--fill-color);\n",
              "    height: 32px;\n",
              "    padding: 0;\n",
              "    width: 32px;\n",
              "  }\n",
              "\n",
              "  .colab-df-quickchart:hover {\n",
              "    background-color: var(--hover-bg-color);\n",
              "    box-shadow: 0 1px 2px rgba(60, 64, 67, 0.3), 0 1px 3px 1px rgba(60, 64, 67, 0.15);\n",
              "    fill: var(--button-hover-fill-color);\n",
              "  }\n",
              "\n",
              "  .colab-df-quickchart-complete:disabled,\n",
              "  .colab-df-quickchart-complete:disabled:hover {\n",
              "    background-color: var(--disabled-bg-color);\n",
              "    fill: var(--disabled-fill-color);\n",
              "    box-shadow: none;\n",
              "  }\n",
              "\n",
              "  .colab-df-spinner {\n",
              "    border: 2px solid var(--fill-color);\n",
              "    border-color: transparent;\n",
              "    border-bottom-color: var(--fill-color);\n",
              "    animation:\n",
              "      spin 1s steps(1) infinite;\n",
              "  }\n",
              "\n",
              "  @keyframes spin {\n",
              "    0% {\n",
              "      border-color: transparent;\n",
              "      border-bottom-color: var(--fill-color);\n",
              "      border-left-color: var(--fill-color);\n",
              "    }\n",
              "    20% {\n",
              "      border-color: transparent;\n",
              "      border-left-color: var(--fill-color);\n",
              "      border-top-color: var(--fill-color);\n",
              "    }\n",
              "    30% {\n",
              "      border-color: transparent;\n",
              "      border-left-color: var(--fill-color);\n",
              "      border-top-color: var(--fill-color);\n",
              "      border-right-color: var(--fill-color);\n",
              "    }\n",
              "    40% {\n",
              "      border-color: transparent;\n",
              "      border-right-color: var(--fill-color);\n",
              "      border-top-color: var(--fill-color);\n",
              "    }\n",
              "    60% {\n",
              "      border-color: transparent;\n",
              "      border-right-color: var(--fill-color);\n",
              "    }\n",
              "    80% {\n",
              "      border-color: transparent;\n",
              "      border-right-color: var(--fill-color);\n",
              "      border-bottom-color: var(--fill-color);\n",
              "    }\n",
              "    90% {\n",
              "      border-color: transparent;\n",
              "      border-bottom-color: var(--fill-color);\n",
              "    }\n",
              "  }\n",
              "</style>\n",
              "\n",
              "  <script>\n",
              "    async function quickchart(key) {\n",
              "      const quickchartButtonEl =\n",
              "        document.querySelector('#' + key + ' button');\n",
              "      quickchartButtonEl.disabled = true;  // To prevent multiple clicks.\n",
              "      quickchartButtonEl.classList.add('colab-df-spinner');\n",
              "      try {\n",
              "        const charts = await google.colab.kernel.invokeFunction(\n",
              "            'suggestCharts', [key], {});\n",
              "      } catch (error) {\n",
              "        console.error('Error during call to suggestCharts:', error);\n",
              "      }\n",
              "      quickchartButtonEl.classList.remove('colab-df-spinner');\n",
              "      quickchartButtonEl.classList.add('colab-df-quickchart-complete');\n",
              "    }\n",
              "    (() => {\n",
              "      let quickchartButtonEl =\n",
              "        document.querySelector('#df-e422f683-e8c0-420e-a4a9-51f691b8cc18 button');\n",
              "      quickchartButtonEl.style.display =\n",
              "        google.colab.kernel.accessAllowed ? 'block' : 'none';\n",
              "    })();\n",
              "  </script>\n",
              "</div>\n",
              "\n",
              "    </div>\n",
              "  </div>\n"
            ],
            "application/vnd.google.colaboratory.intrinsic+json": {
              "type": "dataframe",
              "variable_name": "df"
            }
          },
          "metadata": {},
          "execution_count": 9
        }
      ]
    },
    {
      "cell_type": "code",
      "source": [
        "data[\"date\"] = pd.to_datetime(data[\"date\"], format = \"%Y-%m-%d\", errors= \"coerce\")"
      ],
      "metadata": {
        "id": "HSjwzYXHUGkR"
      },
      "execution_count": 16,
      "outputs": []
    },
    {
      "cell_type": "markdown",
      "source": [
        "Calcula el precio promedio de apertura y cierre por día de la semana.\n",
        "\n",
        "Contexto de negocio: Esto puede ayudar a identificar si hay días de la semana en los que la acción tiende a abrir o cerrar con precios más altos."
      ],
      "metadata": {
        "id": "NObhi-Rqr-X9"
      }
    },
    {
      "cell_type": "code",
      "source": [
        "data['day_of_week'] = data['date'].dt.day_name()\n",
        "average_prices_by_day = pd.pivot_table(data, values=['open', 'close'], index='day_of_week', aggfunc='mean')\n",
        "print(average_prices_by_day)\n"
      ],
      "metadata": {
        "id": "xmi4gYjOUKPR",
        "outputId": "afd65b36-d8e7-4430-9c16-ef0e4dd968a8",
        "colab": {
          "base_uri": "https://localhost:8080/"
        }
      },
      "execution_count": 22,
      "outputs": [
        {
          "output_type": "stream",
          "name": "stdout",
          "text": [
            "                 close       open\n",
            "day_of_week                      \n",
            "Friday       70.877954  70.865819\n",
            "Monday       71.081415  71.084029\n",
            "Thursday     70.828781  70.797563\n",
            "Tuesday      70.971359  70.923853\n",
            "Wednesday    70.894125  70.883818\n"
          ]
        }
      ]
    },
    {
      "cell_type": "markdown",
      "source": [
        "Calcula el volumen total de transacciones por día de la semana y compara la actividad entre días.\n",
        "\n",
        "Contexto de negocio: Saber qué días tienen mayor actividad puede ayudarte a decidir cuándo realizar compras o ventas estratégicas."
      ],
      "metadata": {
        "id": "EuiXaaDHrBzj"
      }
    },
    {
      "cell_type": "code",
      "source": [
        "volume_by_day = pd.pivot_table(data, values='volume', index='day_of_week', aggfunc='sum')\n",
        "print(volume_by_day)\n"
      ],
      "metadata": {
        "id": "nEIaJw5cq2DD",
        "outputId": "e4d26d9a-8103-4d3c-d5ef-8b37d00a9c30",
        "colab": {
          "base_uri": "https://localhost:8080/"
        }
      },
      "execution_count": 20,
      "outputs": [
        {
          "output_type": "stream",
          "name": "stdout",
          "text": [
            "                   volume\n",
            "day_of_week              \n",
            "Friday       9.530132e+11\n",
            "Monday       7.961518e+11\n",
            "Thursday     9.549972e+11\n",
            "Tuesday      9.417672e+11\n",
            "Wednesday    9.607407e+11\n"
          ]
        }
      ]
    },
    {
      "cell_type": "markdown",
      "source": [
        "Calcula los precios máximos y mínimos de apertura por mes.\n",
        "\n",
        "Contexto de negocio: Esto te permitirá evaluar la volatilidad mensual de la acción."
      ],
      "metadata": {
        "id": "F7JD1MvdryJA"
      }
    },
    {
      "cell_type": "code",
      "source": [
        "data['month'] = data['date'].dt.month\n",
        "max_min_open_by_month = pd.pivot_table(data, values='open', index='month', aggfunc=['max', 'min'])\n",
        "print(max_min_open_by_month)\n"
      ],
      "metadata": {
        "id": "J3dkmfeqFtze",
        "outputId": "c8110176-f39e-4b44-d7f9-09fbdd4dece8",
        "colab": {
          "base_uri": "https://localhost:8080/"
        }
      },
      "execution_count": 23,
      "outputs": [
        {
          "output_type": "stream",
          "name": "stdout",
          "text": [
            "               max   min\n",
            "              open  open\n",
            "month                   \n",
            "1.0    1256.000000  0.98\n",
            "2.0    1358.520020  1.19\n",
            "3.0    1372.550049  1.29\n",
            "4.0    1359.880005  1.42\n",
            "5.0    1349.000000  1.22\n",
            "6.0    1374.000000  1.10\n",
            "7.0    1362.000000  1.00\n",
            "8.0    1440.000000  1.02\n",
            "9.0    1478.069946  0.94\n",
            "10.0   1498.739990  0.85\n",
            "11.0   1584.439941  0.88\n",
            "12.0   1560.550049  0.93\n"
          ]
        }
      ]
    },
    {
      "cell_type": "markdown",
      "source": [
        "Calcula el volumen promedio por mes y acción (suponiendo que tienes datos de múltiples acciones).\n",
        "\n",
        "Contexto de negocio: Esta información te ayuda a comparar la liquidez de diferentes acciones a lo largo del tiempo.\n"
      ],
      "metadata": {
        "id": "Kd2KertnFuEY"
      }
    },
    {
      "cell_type": "code",
      "source": [
        "import pandas as pd\n",
        "if 'symbol' not in data.columns:\n",
        "  data['symbol'] = 'AAPL'\n",
        "average_volume_by_month_symbol = pd.pivot_table(data, values='volume', index=['month', 'symbol'], aggfunc='mean')\n",
        "print(average_volume_by_month_symbol)\n"
      ],
      "metadata": {
        "id": "YoPUqDkiFwuM",
        "outputId": "17f2881f-e4cc-41a1-8c38-322872d7e505",
        "colab": {
          "base_uri": "https://localhost:8080/"
        }
      },
      "execution_count": 24,
      "outputs": [
        {
          "output_type": "stream",
          "name": "stdout",
          "text": [
            "                    volume\n",
            "month symbol              \n",
            "1.0   A       3.888672e+06\n",
            "      AAL     1.098598e+07\n",
            "      AAP     9.144943e+05\n",
            "      AAPL    1.161829e+08\n",
            "      ABBV    1.037651e+07\n",
            "...                    ...\n",
            "12.0  YHOO    1.598091e+07\n",
            "      YUM     4.426423e+06\n",
            "      ZBH     1.311636e+06\n",
            "      ZION    2.998091e+06\n",
            "      ZTS     3.081085e+06\n",
            "\n",
            "[5976 rows x 1 columns]\n"
          ]
        }
      ]
    },
    {
      "cell_type": "markdown",
      "source": [
        "Calcula el precio de cierre promedio de la acción AAPL por mes, y agrega una columna con el total de transacciones en cada mes.\n",
        "\n",
        "Contexto de negocio: Esto te permite comparar el comportamiento de los precios con el volumen de transacciones, para entender si hay algún patrón de venta o compra en función del precio."
      ],
      "metadata": {
        "id": "Bi9wyS9lFw-S"
      }
    },
    {
      "cell_type": "code",
      "source": [
        "average_close_and_total_volume_by_month = pd.pivot_table(data, values=['close', 'volume'], index='month', aggfunc={'close': 'mean', 'volume': 'sum'})\n",
        "print(average_close_and_total_volume_by_month)\n"
      ],
      "metadata": {
        "id": "GhnLngACF0zq",
        "outputId": "7cc77a16-d62d-4f1f-b687-52ec0f58083c",
        "colab": {
          "base_uri": "https://localhost:8080/"
        }
      },
      "execution_count": 25,
      "outputs": [
        {
          "output_type": "stream",
          "name": "stdout",
          "text": [
            "           close        volume\n",
            "month                         \n",
            "1.0    67.810612  4.166199e+11\n",
            "2.0    68.744791  3.815091e+11\n",
            "3.0    70.318585  3.996626e+11\n",
            "4.0    71.234032  3.842605e+11\n",
            "5.0    71.098155  3.920617e+11\n",
            "6.0    70.388173  3.907176e+11\n",
            "7.0    71.468803  3.639948e+11\n",
            "8.0    70.479206  3.933571e+11\n",
            "9.0    70.873835  3.715663e+11\n",
            "10.0   71.636090  4.054437e+11\n",
            "11.0   72.710730  3.614949e+11\n",
            "12.0   74.072240  3.459819e+11\n"
          ]
        }
      ]
    },
    {
      "cell_type": "markdown",
      "source": [
        "Preguntas de Tablas de Contingencia (Aplicadas a Negocios)\n",
        "Crea una tabla de contingencia para contar cuántos días el precio de apertura fue mayor o igual a $155 y cuántos días fue menor a $155.\n",
        "\n",
        "Contexto de negocio: Esto te ayuda a entender cómo se distribuyen los precios de apertura alrededor de un umbral crítico de $155."
      ],
      "metadata": {
        "id": "pUuT9YI3F1Dj"
      }
    },
    {
      "cell_type": "code",
      "source": [
        "data['precio_apertura_mayor_igual_155'] = data['open'] >= 155\n",
        "tabla_contingencia = pd.crosstab(data['precio_apertura_mayor_igual_155'], columns='count')\n",
        "print(tabla_contingencia)\n"
      ],
      "metadata": {
        "id": "4dM_dP8TF6x8",
        "outputId": "163532e5-71e1-45ac-c809-5a6d31371097",
        "colab": {
          "base_uri": "https://localhost:8080/"
        }
      },
      "execution_count": 28,
      "outputs": [
        {
          "output_type": "stream",
          "name": "stdout",
          "text": [
            "col_0                             count\n",
            "precio_apertura_mayor_igual_155        \n",
            "False                            800961\n",
            "True                              50303\n"
          ]
        }
      ]
    },
    {
      "cell_type": "markdown",
      "source": [
        "Genera una tabla de contingencia para contar cuántos días el volumen de transacciones fue mayor o igual a 75 millones y cuántos días fue menor.\n",
        "\n",
        "Contexto de negocio: Identificar días de alto volumen de transacciones es clave para entender cuándo hubo más interés en la compra/venta de la acción."
      ],
      "metadata": {
        "id": "3lLqxPVvF7IC"
      }
    },
    {
      "cell_type": "code",
      "source": [
        "data['volumen_mayor_igual_75M'] = data['volume'] >= 75000000\n",
        "tabla_contingencia_volumen = pd.crosstab(data['volumen_mayor_igual_75M'], columns='count')\n",
        "print(tabla_contingencia_volumen)"
      ],
      "metadata": {
        "id": "9asT7zPKF9sJ",
        "outputId": "f4910374-25e4-47bb-cad1-4609402b668b",
        "colab": {
          "base_uri": "https://localhost:8080/"
        }
      },
      "execution_count": 30,
      "outputs": [
        {
          "output_type": "stream",
          "name": "stdout",
          "text": [
            "col_0                     count\n",
            "volumen_mayor_igual_75M        \n",
            "False                    847171\n",
            "True                       4093\n"
          ]
        }
      ]
    },
    {
      "cell_type": "markdown",
      "source": [
        "Crea una tabla de contingencia que muestre cuántos días el precio de cierre fue mayor o igual al precio de apertura, y cuántos días fue menor.\n",
        "\n",
        "Contexto de negocio: Saber en cuántos días la acción cerró por encima o por debajo del precio de apertura puede darte una idea general del rendimiento de la acción."
      ],
      "metadata": {
        "id": "Fl5U-mJIF9-E"
      }
    },
    {
      "cell_type": "code",
      "source": [
        "data['cierre_mayor_igual_apertura'] = data['close'] >= data['open']\n",
        "tabla_contingencia_cierre_apertura = pd.crosstab(data['cierre_mayor_igual_apertura'], columns='count')\n",
        "print(tabla_contingencia_cierre_apertura)"
      ],
      "metadata": {
        "id": "wWgJrNSlGAV5",
        "outputId": "b1c03027-0df3-4fdf-d61c-0b68938f9ef9",
        "colab": {
          "base_uri": "https://localhost:8080/"
        }
      },
      "execution_count": 31,
      "outputs": [
        {
          "output_type": "stream",
          "name": "stdout",
          "text": [
            "col_0                         count\n",
            "cierre_mayor_igual_apertura        \n",
            "False                        406500\n",
            "True                         444764\n"
          ]
        }
      ]
    },
    {
      "cell_type": "markdown",
      "source": [
        "Añade márgenes (totales) a la tabla de contingencia anterior para conocer el total de días con subidas y bajadas de precio.\n",
        "\n",
        "Contexto de negocio: Analizar cuántos días en general la acción tuvo subidas o bajadas te da un panorama más amplio del comportamiento de la acción."
      ],
      "metadata": {
        "id": "uRLZ1pTRGAju"
      }
    },
    {
      "cell_type": "code",
      "source": [
        "tabla_contingencia_cierre_apertura_con_totales = pd.crosstab(data['cierre_mayor_igual_apertura'], columns='count', margins=True)\n",
        "print(tabla_contingencia_cierre_apertura_con_totales)\n"
      ],
      "metadata": {
        "id": "2Qmh2spuGD9q",
        "outputId": "7005aaaf-5b44-403b-9bc9-8e6d21d5734f",
        "colab": {
          "base_uri": "https://localhost:8080/"
        }
      },
      "execution_count": 32,
      "outputs": [
        {
          "output_type": "stream",
          "name": "stdout",
          "text": [
            "col_0                         count     All\n",
            "cierre_mayor_igual_apertura                \n",
            "False                        406500  406500\n",
            "True                         444764  444764\n",
            "All                          851264  851264\n"
          ]
        }
      ]
    },
    {
      "cell_type": "markdown",
      "source": [
        "Crea una tabla de contingencia que compare cuántos días el precio de apertura fue mayor o igual a $155 y al mismo tiempo el precio de cierre ajustado fue mayor o menor a $155.\n",
        "\n",
        "Contexto de negocio: Esto permite identificar patrones donde el precio de apertura y el precio de cierre ajustado cruzan umbrales críticos, lo que es útil para ajustes en las estrategias de compra/venta."
      ],
      "metadata": {
        "id": "2U-4wGeQGEOE"
      }
    },
    {
      "cell_type": "code",
      "source": [
        "\n",
        "tabla_contingencia_apertura_cierre = pd.crosstab(data['precio_apertura_mayor_igual_155'], data['close'] >= 155)\n",
        "print(tabla_contingencia_apertura_cierre)\n"
      ],
      "metadata": {
        "id": "eIYEVTprGGv3",
        "outputId": "cc083334-3239-4a66-8884-8999e761d3db",
        "colab": {
          "base_uri": "https://localhost:8080/"
        }
      },
      "execution_count": 33,
      "outputs": [
        {
          "output_type": "stream",
          "name": "stdout",
          "text": [
            "close                             False  True \n",
            "precio_apertura_mayor_igual_155               \n",
            "False                            800422    539\n",
            "True                                489  49814\n"
          ]
        }
      ]
    },
    {
      "cell_type": "markdown",
      "source": [
        "Preguntas de Melts (Aplicadas a Negocios)\n",
        "Transforma las columnas de precios (Open, Close, High, Low) en una única columna llamada Precio, manteniendo la fecha (Date) y el tipo de acción (Stock).\n",
        "\n",
        "Contexto de negocio: Este formato largo es ideal para realizar visualizaciones comparativas de diferentes precios de la acción a lo largo del tiempo."
      ],
      "metadata": {
        "id": "O74ohdTbGHAt"
      }
    },
    {
      "cell_type": "code",
      "source": [
        "data_melted = pd.melt(data, id_vars=['date', 'symbol'], value_vars=['open', 'close', 'high', 'low'], var_name='Precio_Tipo', value_name='Precio')\n",
        "print(data_melted)\n"
      ],
      "metadata": {
        "id": "gDbe8j-uGKlX",
        "outputId": "8954dc20-96a9-4bbe-ba94-2281228b707d",
        "colab": {
          "base_uri": "https://localhost:8080/"
        }
      },
      "execution_count": 35,
      "outputs": [
        {
          "output_type": "stream",
          "name": "stdout",
          "text": [
            "              date symbol Precio_Tipo      Precio\n",
            "0              NaT   WLTW        open  123.430000\n",
            "1              NaT   WLTW        open  125.239998\n",
            "2              NaT   WLTW        open  116.379997\n",
            "3              NaT   WLTW        open  115.480003\n",
            "4              NaT   WLTW        open  117.010002\n",
            "...            ...    ...         ...         ...\n",
            "3405051 2016-12-30    ZBH         low  102.849998\n",
            "3405052 2016-12-30   ZION         low   42.689999\n",
            "3405053 2016-12-30    ZTS         low   53.270000\n",
            "3405054        NaT    AIV         low   44.410000\n",
            "3405055        NaT    FTV         low   53.389999\n",
            "\n",
            "[3405056 rows x 4 columns]\n"
          ]
        }
      ]
    },
    {
      "cell_type": "markdown",
      "source": [
        "Convierte todas las columnas del dataset, excepto Date y Stock, en un formato largo usando melt.\n",
        "\n",
        "Contexto de negocio: Tener todas las variables en un formato largo es útil para generar reportes dinámicos que comparen diferentes tipos de datos (precios, volumen, etc.)."
      ],
      "metadata": {
        "id": "jUE9CvxMGKQA"
      }
    },
    {
      "cell_type": "code",
      "source": [
        "data_melted = pd.melt(data, id_vars=['date', 'symbol'], var_name='variable', value_name='valor')\n",
        "print(data_melted)\n"
      ],
      "metadata": {
        "id": "qloWM0gpGNNm",
        "outputId": "bb60827b-cd97-4e2f-d05b-f2d674787890",
        "colab": {
          "base_uri": "https://localhost:8080/"
        }
      },
      "execution_count": 36,
      "outputs": [
        {
          "output_type": "stream",
          "name": "stdout",
          "text": [
            "              date symbol                     variable       valor\n",
            "0              NaT   WLTW                         open      123.43\n",
            "1              NaT   WLTW                         open  125.239998\n",
            "2              NaT   WLTW                         open  116.379997\n",
            "3              NaT   WLTW                         open  115.480003\n",
            "4              NaT   WLTW                         open  117.010002\n",
            "...            ...    ...                          ...         ...\n",
            "9363899 2016-12-30    ZBH  cierre_mayor_igual_apertura       False\n",
            "9363900 2016-12-30   ZION  cierre_mayor_igual_apertura       False\n",
            "9363901 2016-12-30    ZTS  cierre_mayor_igual_apertura       False\n",
            "9363902        NaT    AIV  cierre_mayor_igual_apertura        True\n",
            "9363903        NaT    FTV  cierre_mayor_igual_apertura       False\n",
            "\n",
            "[9363904 rows x 4 columns]\n"
          ]
        }
      ]
    },
    {
      "cell_type": "markdown",
      "source": [
        "Usa melt para convertir los precios (Open, Close, High, Low) y el volumen (Volume) en una sola columna de valor. Luego, agrupa los datos por tipo de precio y acción para calcular el promedio de cada tipo.\n",
        "\n",
        "Contexto de negocio: Este análisis permite comparar el comportamiento de diferentes precios y el volumen en un solo análisis, lo cual es útil para entender tendencias generales de la acción."
      ],
      "metadata": {
        "id": "tRKkXY7ZGNcc"
      }
    },
    {
      "cell_type": "code",
      "source": [
        "data_melted = pd.melt(data, id_vars=['date', 'symbol'], value_vars=['open', 'close', 'high', 'low', 'volume'], var_name='tipo_dato', value_name='valor')\n",
        "promedio_por_tipo_y_accion = data_melted.groupby(['tipo_dato', 'symbol'])['valor'].mean()\n",
        "print(promedio_por_tipo_y_accion)\n"
      ],
      "metadata": {
        "id": "yO2YZpm8GQDW",
        "outputId": "f2026cbe-13b6-483d-e8af-f08f5c78cee1",
        "colab": {
          "base_uri": "https://localhost:8080/"
        }
      },
      "execution_count": 37,
      "outputs": [
        {
          "output_type": "stream",
          "name": "stdout",
          "text": [
            "tipo_dato  symbol\n",
            "close      A         4.253944e+01\n",
            "           AAL       2.387377e+01\n",
            "           AAP       1.037696e+02\n",
            "           AAPL      3.129271e+02\n",
            "           ABBV      5.547364e+01\n",
            "                         ...     \n",
            "volume     YHOO      1.996907e+07\n",
            "           YUM       5.163684e+06\n",
            "           ZBH       1.509946e+06\n",
            "           ZION      3.227187e+06\n",
            "           ZTS       4.020115e+06\n",
            "Name: valor, Length: 2505, dtype: float64\n"
          ]
        }
      ]
    },
    {
      "cell_type": "markdown",
      "source": [
        "Realiza una transformación melt para convertir los precios en una columna y agrúpalos por día para calcular el precio promedio diario de la acción.\n",
        "\n",
        "Contexto de negocio: Esto proporciona una visión agregada del comportamiento promedio de los precios diarios de la acción."
      ],
      "metadata": {
        "id": "8GrWsiq5GQQ4"
      }
    },
    {
      "cell_type": "code",
      "source": [
        "data_melted_precios = pd.melt(data, id_vars=['date'], value_vars=['open', 'close', 'high', 'low'], var_name='tipo_precio', value_name='precio')\n",
        "precio_promedio_diario = data_melted_precios.groupby('date')['precio'].mean()\n",
        "print(precio_promedio_diario)\n"
      ],
      "metadata": {
        "id": "57tn7YZlGUjH",
        "outputId": "14e3e907-d9b6-4882-9401-6229f71855e0",
        "colab": {
          "base_uri": "https://localhost:8080/"
        }
      },
      "execution_count": 38,
      "outputs": [
        {
          "output_type": "stream",
          "name": "stdout",
          "text": [
            "date\n",
            "2010-01-04    46.766048\n",
            "2010-01-05    46.826185\n",
            "2010-01-06    46.915987\n",
            "2010-01-07    46.926233\n",
            "2010-01-08    47.029547\n",
            "                ...    \n",
            "2016-12-23    90.427329\n",
            "2016-12-27    90.810922\n",
            "2016-12-28    90.453337\n",
            "2016-12-29    90.006193\n",
            "2016-12-30    89.839287\n",
            "Name: precio, Length: 1762, dtype: float64\n"
          ]
        }
      ]
    }
  ]
}